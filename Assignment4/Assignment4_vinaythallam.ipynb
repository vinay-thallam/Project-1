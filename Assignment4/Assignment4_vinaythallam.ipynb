{
  "nbformat": 4,
  "nbformat_minor": 0,
  "metadata": {
    "colab": {
      "name": "Assignment4-vinaythallam.ipynb",
      "version": "0.3.2",
      "provenance": [],
      "collapsed_sections": []
    },
    "kernelspec": {
      "name": "python3",
      "display_name": "Python 3"
    },
    "accelerator": "GPU"
  },
  "cells": [
    {
      "cell_type": "markdown",
      "metadata": {
        "id": "aNyZv-Ec52ot",
        "colab_type": "text"
      },
      "source": [
        "# **Import Libraries and modules**"
      ]
    },
    {
      "cell_type": "code",
      "metadata": {
        "id": "3m3w1Cw49Zkt",
        "colab_type": "code",
        "colab": {
          "base_uri": "https://localhost:8080/",
          "height": 34
        },
        "outputId": "497ae249-0966-4b19-e952-3b086fefc433"
      },
      "source": [
        "# https://keras.io/\n",
        "!pip install -q keras\n",
        "import keras"
      ],
      "execution_count": 1,
      "outputs": [
        {
          "output_type": "stream",
          "text": [
            "Using TensorFlow backend.\n"
          ],
          "name": "stderr"
        }
      ]
    },
    {
      "cell_type": "code",
      "metadata": {
        "id": "Eso6UHE080D4",
        "colab_type": "code",
        "colab": {}
      },
      "source": [
        "import numpy as np\n",
        "\n",
        "from keras.models import Sequential\n",
        "from keras.layers import Dense, Dropout, Activation, Flatten, Add, BatchNormalization\n",
        "from keras.layers import Convolution2D, MaxPooling2D\n",
        "from keras.utils import np_utils\n",
        "\n",
        "from keras.datasets import mnist"
      ],
      "execution_count": 0,
      "outputs": []
    },
    {
      "cell_type": "markdown",
      "metadata": {
        "id": "zByEi95J86RD",
        "colab_type": "text"
      },
      "source": [
        "### Load pre-shuffled MNIST data into train and test sets"
      ]
    },
    {
      "cell_type": "code",
      "metadata": {
        "id": "7eRM0QWN83PV",
        "colab_type": "code",
        "colab": {}
      },
      "source": [
        "(X_train, y_train), (X_test, y_test) = mnist.load_data()"
      ],
      "execution_count": 0,
      "outputs": []
    },
    {
      "cell_type": "code",
      "metadata": {
        "id": "4a4Be72j8-ZC",
        "colab_type": "code",
        "outputId": "1dfe6e4d-df8d-45f4-91d7-62469b1ece26",
        "colab": {
          "base_uri": "https://localhost:8080/",
          "height": 302
        }
      },
      "source": [
        "print (X_train.shape)\n",
        "from matplotlib import pyplot as plt\n",
        "%matplotlib inline\n",
        "plt.imshow(X_train[0])"
      ],
      "execution_count": 49,
      "outputs": [
        {
          "output_type": "stream",
          "text": [
            "(60000, 28, 28)\n"
          ],
          "name": "stdout"
        },
        {
          "output_type": "execute_result",
          "data": {
            "text/plain": [
              "<matplotlib.image.AxesImage at 0x7f0f646784e0>"
            ]
          },
          "metadata": {
            "tags": []
          },
          "execution_count": 49
        },
        {
          "output_type": "display_data",
          "data": {
            "image/png": "[encoded data removed]",
            "text/plain": [
              "<Figure size 432x288 with 1 Axes>"
            ]
          },
          "metadata": {
            "tags": []
          }
        }
      ]
    },
    {
      "cell_type": "code",
      "metadata": {
        "id": "dkmprriw9AnZ",
        "colab_type": "code",
        "colab": {}
      },
      "source": [
        "X_train = X_train.reshape(X_train.shape[0], 28, 28,1)\n",
        "X_test = X_test.reshape(X_test.shape[0], 28, 28,1)"
      ],
      "execution_count": 0,
      "outputs": []
    },
    {
      "cell_type": "code",
      "metadata": {
        "id": "X2m4YS4E9CRh",
        "colab_type": "code",
        "colab": {}
      },
      "source": [
        "X_train = X_train.astype('float32')\n",
        "X_test = X_test.astype('float32')\n",
        "X_train /= 255\n",
        "X_test /= 255"
      ],
      "execution_count": 0,
      "outputs": []
    },
    {
      "cell_type": "code",
      "metadata": {
        "id": "0Mn0vAYD9DvB",
        "colab_type": "code",
        "outputId": "97717433-bbb9-4b97-c0a2-8d6640ac23f5",
        "colab": {
          "base_uri": "https://localhost:8080/",
          "height": 34
        }
      },
      "source": [
        "y_train[:10]"
      ],
      "execution_count": 52,
      "outputs": [
        {
          "output_type": "execute_result",
          "data": {
            "text/plain": [
              "array([5, 0, 4, 1, 9, 2, 1, 3, 1, 4], dtype=uint8)"
            ]
          },
          "metadata": {
            "tags": []
          },
          "execution_count": 52
        }
      ]
    },
    {
      "cell_type": "code",
      "metadata": {
        "id": "ZG8JiXR39FHC",
        "colab_type": "code",
        "colab": {}
      },
      "source": [
        "# Convert 1-dimensional class arrays to 10-dimensional class matrices\n",
        "Y_train = np_utils.to_categorical(y_train, 10)\n",
        "Y_test = np_utils.to_categorical(y_test, 10)"
      ],
      "execution_count": 0,
      "outputs": []
    },
    {
      "cell_type": "code",
      "metadata": {
        "id": "fYlFRvKS9HMB",
        "colab_type": "code",
        "outputId": "f85ac46e-6b5d-4da3-834b-b417b51b434c",
        "colab": {
          "base_uri": "https://localhost:8080/",
          "height": 185
        }
      },
      "source": [
        "Y_train[:10]\n"
      ],
      "execution_count": 54,
      "outputs": [
        {
          "output_type": "execute_result",
          "data": {
            "text/plain": [
              "array([[0., 0., 0., 0., 0., 1., 0., 0., 0., 0.],\n",
              "       [1., 0., 0., 0., 0., 0., 0., 0., 0., 0.],\n",
              "       [0., 0., 0., 0., 1., 0., 0., 0., 0., 0.],\n",
              "       [0., 1., 0., 0., 0., 0., 0., 0., 0., 0.],\n",
              "       [0., 0., 0., 0., 0., 0., 0., 0., 0., 1.],\n",
              "       [0., 0., 1., 0., 0., 0., 0., 0., 0., 0.],\n",
              "       [0., 1., 0., 0., 0., 0., 0., 0., 0., 0.],\n",
              "       [0., 0., 0., 1., 0., 0., 0., 0., 0., 0.],\n",
              "       [0., 1., 0., 0., 0., 0., 0., 0., 0., 0.],\n",
              "       [0., 0., 0., 0., 1., 0., 0., 0., 0., 0.]], dtype=float32)"
            ]
          },
          "metadata": {
            "tags": []
          },
          "execution_count": 54
        }
      ]
    },
    {
      "cell_type": "code",
      "metadata": {
        "id": "osKqT73Q9JJB",
        "colab_type": "code",
        "outputId": "b29fb42f-26ee-4ec5-8b52-45e60db2b4b8",
        "colab": {
          "base_uri": "https://localhost:8080/",
          "height": 1000
        }
      },
      "source": [
        "# First CODE\n",
        "# Fixing the architecture in this code block. Using the convolution block followed by transition and then \n",
        "# convolution block and finally using huge size kernel to reduce the channel to single number\n",
        "\n",
        "# Starting with the 32 kernels and going to 64, then 128 in each convolution block \n",
        "# and the using 1X1 kernel to reduce the number of channels back to 32\n",
        "\n",
        "#Observation before this code block i.e first DNN code that was provided : Params - 68,260 , val_acc after 10th epock - 98.27 \n",
        "\n",
        "from keras.layers import Activation\n",
        "model = Sequential()\n",
        "\n",
        " \n",
        "model.add(Convolution2D(32, 3, 3, activation='relu', input_shape=(28,28,1))) # 26, RF 3\n",
        "\n",
        "model.add(Convolution2D(64, 3, 3, activation='relu')) # 24, RF 5\n",
        "model.add(Convolution2D(128, 3, 3, activation='relu')) # 22, RF 7\n",
        "\n",
        "model.add(MaxPooling2D(pool_size=(2, 2))) # 11, RF 14\n",
        "model.add(Convolution2D(32, 1, 1, activation='relu')) # 11, No Change in RF here\n",
        "\n",
        "model.add(Convolution2D(64, 3, 3, activation='relu')) # 9, RF 16\n",
        "model.add(Convolution2D(128, 3, 3, activation='relu')) # 7, RF 18\n",
        "\n",
        "model.add(Convolution2D(10, 1, activation='relu')) #7, No Change in RF here\n",
        "model.add(Convolution2D(10, 7)) #1, RF 28\n",
        "model.add(Flatten())\n",
        "model.add(Activation('softmax'))\n",
        "\n",
        "model.summary()\n",
        "\n",
        "model.compile(loss='categorical_crossentropy',\n",
        "             optimizer='adam',\n",
        "             metrics=['accuracy'])\n",
        "\n",
        "# validation_data argument is used to run the n/w on validation data set after each epoch\n",
        "model.fit(X_train, Y_train, batch_size=32, nb_epoch=10, verbose=1, \n",
        "          validation_data=(X_test, Y_test))  \n",
        "\n",
        "score = model.evaluate(X_test, Y_test, verbose=0)\n",
        "\n",
        "print(score)\n",
        "\n",
        "# Observation : Here number of params is huge i.e at 195,352. And val_acc at 3rd epoch itself is 99.12\n",
        "# and got val_acc of 99.11 at 9th epoch and 99.01 at 10th epoch\n",
        "# Here no. of params is huge but that is OK, because in this code block we just tried to fix the architecture."
      ],
      "execution_count": 37,
      "outputs": [
        {
          "output_type": "stream",
          "text": [
            "/usr/local/lib/python3.6/dist-packages/ipykernel_launcher.py:6: UserWarning: Update your `Conv2D` call to the Keras 2 API: `Conv2D(32, (3, 3), activation=\"relu\", input_shape=(28, 28, 1...)`\n",
            "  \n",
            "/usr/local/lib/python3.6/dist-packages/ipykernel_launcher.py:8: UserWarning: Update your `Conv2D` call to the Keras 2 API: `Conv2D(64, (3, 3), activation=\"relu\")`\n",
            "  \n",
            "/usr/local/lib/python3.6/dist-packages/ipykernel_launcher.py:9: UserWarning: Update your `Conv2D` call to the Keras 2 API: `Conv2D(128, (3, 3), activation=\"relu\")`\n",
            "  if __name__ == '__main__':\n",
            "W0818 18:41:16.152421 139706914322304 deprecation_wrapper.py:119] From /usr/local/lib/python3.6/dist-packages/keras/backend/tensorflow_backend.py:3976: The name tf.nn.max_pool is deprecated. Please use tf.nn.max_pool2d instead.\n",
            "\n",
            "/usr/local/lib/python3.6/dist-packages/ipykernel_launcher.py:12: UserWarning: Update your `Conv2D` call to the Keras 2 API: `Conv2D(32, (1, 1), activation=\"relu\")`\n",
            "  if sys.path[0] == '':\n",
            "/usr/local/lib/python3.6/dist-packages/ipykernel_launcher.py:14: UserWarning: Update your `Conv2D` call to the Keras 2 API: `Conv2D(64, (3, 3), activation=\"relu\")`\n",
            "  \n",
            "/usr/local/lib/python3.6/dist-packages/ipykernel_launcher.py:15: UserWarning: Update your `Conv2D` call to the Keras 2 API: `Conv2D(128, (3, 3), activation=\"relu\")`\n",
            "  from ipykernel import kernelapp as app\n",
            "/usr/local/lib/python3.6/dist-packages/ipykernel_launcher.py:30: UserWarning: The `nb_epoch` argument in `fit` has been renamed `epochs`.\n"
          ],
          "name": "stderr"
        },
        {
          "output_type": "stream",
          "text": [
            "_________________________________________________________________\n",
            "Layer (type)                 Output Shape              Param #   \n",
            "=================================================================\n",
            "conv2d_13 (Conv2D)           (None, 26, 26, 32)        320       \n",
            "_________________________________________________________________\n",
            "conv2d_14 (Conv2D)           (None, 24, 24, 64)        18496     \n",
            "_________________________________________________________________\n",
            "conv2d_15 (Conv2D)           (None, 22, 22, 128)       73856     \n",
            "_________________________________________________________________\n",
            "max_pooling2d_1 (MaxPooling2 (None, 11, 11, 128)       0         \n",
            "_________________________________________________________________\n",
            "conv2d_16 (Conv2D)           (None, 11, 11, 32)        4128      \n",
            "_________________________________________________________________\n",
            "conv2d_17 (Conv2D)           (None, 9, 9, 64)          18496     \n",
            "_________________________________________________________________\n",
            "conv2d_18 (Conv2D)           (None, 7, 7, 128)         73856     \n",
            "_________________________________________________________________\n",
            "conv2d_19 (Conv2D)           (None, 7, 7, 10)          1290      \n",
            "_________________________________________________________________\n",
            "conv2d_20 (Conv2D)           (None, 1, 1, 10)          4910      \n",
            "_________________________________________________________________\n",
            "flatten_5 (Flatten)          (None, 10)                0         \n",
            "_________________________________________________________________\n",
            "activation_5 (Activation)    (None, 10)                0         \n",
            "=================================================================\n",
            "Total params: 195,352\n",
            "Trainable params: 195,352\n",
            "Non-trainable params: 0\n",
            "_________________________________________________________________\n",
            "Train on 60000 samples, validate on 10000 samples\n",
            "Epoch 1/10\n",
            "60000/60000 [==============================] - 17s 275us/step - loss: 0.1478 - acc: 0.9536 - val_loss: 0.0619 - val_acc: 0.9813\n",
            "Epoch 2/10\n",
            "60000/60000 [==============================] - 16s 263us/step - loss: 0.0499 - acc: 0.9846 - val_loss: 0.0426 - val_acc: 0.9870\n",
            "Epoch 3/10\n",
            "60000/60000 [==============================] - 16s 262us/step - loss: 0.0386 - acc: 0.9886 - val_loss: 0.0288 - val_acc: 0.9912\n",
            "Epoch 4/10\n",
            "60000/60000 [==============================] - 16s 262us/step - loss: 0.0307 - acc: 0.9906 - val_loss: 0.0300 - val_acc: 0.9903\n",
            "Epoch 5/10\n",
            "60000/60000 [==============================] - 16s 261us/step - loss: 0.0257 - acc: 0.9915 - val_loss: 0.0344 - val_acc: 0.9891\n",
            "Epoch 6/10\n",
            "60000/60000 [==============================] - 16s 261us/step - loss: 0.0209 - acc: 0.9931 - val_loss: 0.0402 - val_acc: 0.9864\n",
            "Epoch 7/10\n",
            "60000/60000 [==============================] - 16s 261us/step - loss: 0.0182 - acc: 0.9941 - val_loss: 0.0349 - val_acc: 0.9906\n",
            "Epoch 8/10\n",
            "60000/60000 [==============================] - 16s 261us/step - loss: 0.0148 - acc: 0.9953 - val_loss: 0.0358 - val_acc: 0.9902\n",
            "Epoch 9/10\n",
            "60000/60000 [==============================] - 16s 260us/step - loss: 0.0136 - acc: 0.9956 - val_loss: 0.0341 - val_acc: 0.9911\n",
            "Epoch 10/10\n",
            "60000/60000 [==============================] - 16s 260us/step - loss: 0.0121 - acc: 0.9960 - val_loss: 0.0420 - val_acc: 0.9901\n",
            "[0.042029354694764515, 0.9901]\n"
          ],
          "name": "stdout"
        }
      ]
    },
    {
      "cell_type": "code",
      "metadata": {
        "id": "8pGmDdSQEP9x",
        "colab_type": "code",
        "colab": {
          "base_uri": "https://localhost:8080/",
          "height": 1000
        },
        "outputId": "e9b65d5e-4add-4bb2-ba0e-d7e4dd0d26f8"
      },
      "source": [
        "# Second CODE\n",
        "# In this code block, lets play with the number of kernels to reduce the total params \n",
        "# by keeping the architecture fixed. And lets observe the val accuracy\n",
        "\n",
        "# Also introcuding the batch normalization in this code block.\n",
        "# Few points about BN : \n",
        "#  1. Makes sure all channels to be in similar amplitude.\n",
        "#  2. BN happens on each channel\n",
        "#  3. Pushes all the values in the channel to be between -1 and +1 ( Channel Normlization ) \n",
        "#  4. Benefit of Batch Normalization is not so evident here because MNIST is a \n",
        "#     very easy dataset. ( Hence used BN in 2nd code block itself alomg with reducing the number of kernels ) \n",
        "\n",
        "\n",
        "# Below are the changes done to this code block in steps and observation of each step \n",
        "# (Note: only final step is shown in this code block) \n",
        "\n",
        "# STEP 1 :\n",
        "# Number of kernels used are 10,10,20 then 10,20,10,10\n",
        "# Observation -> No. of params : 10,890, val_acc : 99.08 at 8th epoch\n",
        "\n",
        "# STEP 2 :\n",
        "# Increasing the bacth_size from 32 to 128\n",
        "# Observation -> Thes network ran faster i.e 4s for each epoch as opposed to 13 sec previoously\n",
        "#                val_acc found to be 98.65 at 10th epoch. acc appears to be reduced \n",
        "\n",
        "# STEP 3 : \n",
        "# Introduce bacth Normalization after each layer\n",
        "# Observation -> Total params increased a bit due to BN. and found some non trainable params\n",
        "#                val_acc : 99.07 at 7th epoch. Time taken for each epoch is slightly higher now. ie, around 7 sec\n",
        "\n",
        "\n",
        "# STEP 4 : \n",
        "# Increase the number of kernels -> 10, 16, 32 and 10, 16, 32\n",
        "# Observation -> Total parasm : 18,366 ( within 20k )\n",
        "#                val_acc : 99.08 at 4th epoch itself and consistemtly 99.0 some thing in epoch s after 6th one.\n",
        "\n",
        "\n",
        "from keras.layers import Activation\n",
        "model = Sequential()\n",
        "\n",
        " \n",
        "model.add(Convolution2D(10, 3, 3, activation='relu', input_shape=(28,28,1))) # 26, RF 3\n",
        "model.add(BatchNormalization())\n",
        "model.add(Convolution2D(16, 3, 3, activation='relu')) # 24, RF 5\n",
        "model.add(BatchNormalization())\n",
        "model.add(Convolution2D(32, 3, 3, activation='relu')) # 22, RF 7\n",
        "model.add(BatchNormalization())\n",
        "\n",
        "model.add(MaxPooling2D(pool_size=(2, 2))) # 11, RF 14\n",
        "model.add(Convolution2D(10, 1, 1, activation='relu')) # 11, No Change in RF here\n",
        "model.add(BatchNormalization())\n",
        "\n",
        "model.add(Convolution2D(16, 3, 3, activation='relu')) # 9, RF 16\n",
        "model.add(BatchNormalization())\n",
        "model.add(Convolution2D(32, 3, 3, activation='relu')) # 7, RF 18\n",
        "model.add(BatchNormalization())\n",
        "\n",
        "model.add(Convolution2D(10, 1, activation='relu')) #7, No Change in RF here\n",
        "model.add(BatchNormalization())\n",
        "model.add(Convolution2D(10, 7)) #1, RF 28\n",
        "model.add(Flatten())\n",
        "model.add(Activation('softmax'))\n",
        "\n",
        "model.summary()\n",
        "\n",
        "model.compile(loss='categorical_crossentropy',\n",
        "             optimizer='adam',\n",
        "             metrics=['accuracy'])\n",
        "\n",
        "# validation_data argument is used to run the n/w on validation data set after each epoch\n",
        "model.fit(X_train, Y_train, batch_size=128, nb_epoch=10, verbose=1, \n",
        "          validation_data=(X_test, Y_test))  \n",
        "\n",
        "score = model.evaluate(X_test, Y_test, verbose=0)\n",
        "\n",
        "print(score)"
      ],
      "execution_count": 59,
      "outputs": [
        {
          "output_type": "stream",
          "text": [
            "/usr/local/lib/python3.6/dist-packages/ipykernel_launcher.py:7: UserWarning: Update your `Conv2D` call to the Keras 2 API: `Conv2D(10, (3, 3), activation=\"relu\", input_shape=(28, 28, 1...)`\n",
            "  import sys\n",
            "/usr/local/lib/python3.6/dist-packages/ipykernel_launcher.py:9: UserWarning: Update your `Conv2D` call to the Keras 2 API: `Conv2D(16, (3, 3), activation=\"relu\")`\n",
            "  if __name__ == '__main__':\n",
            "/usr/local/lib/python3.6/dist-packages/ipykernel_launcher.py:11: UserWarning: Update your `Conv2D` call to the Keras 2 API: `Conv2D(32, (3, 3), activation=\"relu\")`\n",
            "  # This is added back by InteractiveShellApp.init_path()\n",
            "/usr/local/lib/python3.6/dist-packages/ipykernel_launcher.py:15: UserWarning: Update your `Conv2D` call to the Keras 2 API: `Conv2D(10, (1, 1), activation=\"relu\")`\n",
            "  from ipykernel import kernelapp as app\n",
            "/usr/local/lib/python3.6/dist-packages/ipykernel_launcher.py:18: UserWarning: Update your `Conv2D` call to the Keras 2 API: `Conv2D(16, (3, 3), activation=\"relu\")`\n",
            "/usr/local/lib/python3.6/dist-packages/ipykernel_launcher.py:20: UserWarning: Update your `Conv2D` call to the Keras 2 API: `Conv2D(32, (3, 3), activation=\"relu\")`\n"
          ],
          "name": "stderr"
        },
        {
          "output_type": "stream",
          "text": [
            "_________________________________________________________________\n",
            "Layer (type)                 Output Shape              Param #   \n",
            "=================================================================\n",
            "conv2d_54 (Conv2D)           (None, 26, 26, 10)        100       \n",
            "_________________________________________________________________\n",
            "batch_normalization_15 (Batc (None, 26, 26, 10)        40        \n",
            "_________________________________________________________________\n",
            "conv2d_55 (Conv2D)           (None, 24, 24, 16)        1456      \n",
            "_________________________________________________________________\n",
            "batch_normalization_16 (Batc (None, 24, 24, 16)        64        \n",
            "_________________________________________________________________\n",
            "conv2d_56 (Conv2D)           (None, 22, 22, 32)        4640      \n",
            "_________________________________________________________________\n",
            "batch_normalization_17 (Batc (None, 22, 22, 32)        128       \n",
            "_________________________________________________________________\n",
            "max_pooling2d_6 (MaxPooling2 (None, 11, 11, 32)        0         \n",
            "_________________________________________________________________\n",
            "conv2d_57 (Conv2D)           (None, 11, 11, 10)        330       \n",
            "_________________________________________________________________\n",
            "batch_normalization_18 (Batc (None, 11, 11, 10)        40        \n",
            "_________________________________________________________________\n",
            "conv2d_58 (Conv2D)           (None, 9, 9, 16)          1456      \n",
            "_________________________________________________________________\n",
            "batch_normalization_19 (Batc (None, 9, 9, 16)          64        \n",
            "_________________________________________________________________\n",
            "conv2d_59 (Conv2D)           (None, 7, 7, 32)          4640      \n",
            "_________________________________________________________________\n",
            "batch_normalization_20 (Batc (None, 7, 7, 32)          128       \n",
            "_________________________________________________________________\n",
            "conv2d_60 (Conv2D)           (None, 7, 7, 10)          330       \n",
            "_________________________________________________________________\n",
            "batch_normalization_21 (Batc (None, 7, 7, 10)          40        \n",
            "_________________________________________________________________\n",
            "conv2d_61 (Conv2D)           (None, 1, 1, 10)          4910      \n",
            "_________________________________________________________________\n",
            "flatten_10 (Flatten)         (None, 10)                0         \n",
            "_________________________________________________________________\n",
            "activation_10 (Activation)   (None, 10)                0         \n",
            "=================================================================\n",
            "Total params: 18,366\n",
            "Trainable params: 18,114\n",
            "Non-trainable params: 252\n",
            "_________________________________________________________________\n"
          ],
          "name": "stdout"
        },
        {
          "output_type": "stream",
          "text": [
            "/usr/local/lib/python3.6/dist-packages/ipykernel_launcher.py:37: UserWarning: The `nb_epoch` argument in `fit` has been renamed `epochs`.\n"
          ],
          "name": "stderr"
        },
        {
          "output_type": "stream",
          "text": [
            "Train on 60000 samples, validate on 10000 samples\n",
            "Epoch 1/10\n",
            "60000/60000 [==============================] - 10s 160us/step - loss: 0.1891 - acc: 0.9433 - val_loss: 0.0599 - val_acc: 0.9816\n",
            "Epoch 2/10\n",
            "60000/60000 [==============================] - 7s 114us/step - loss: 0.0446 - acc: 0.9866 - val_loss: 0.0430 - val_acc: 0.9853\n",
            "Epoch 3/10\n",
            "60000/60000 [==============================] - 7s 115us/step - loss: 0.0330 - acc: 0.9896 - val_loss: 0.0308 - val_acc: 0.9895\n",
            "Epoch 4/10\n",
            "60000/60000 [==============================] - 7s 115us/step - loss: 0.0243 - acc: 0.9924 - val_loss: 0.0289 - val_acc: 0.9908\n",
            "Epoch 5/10\n",
            "60000/60000 [==============================] - 7s 115us/step - loss: 0.0209 - acc: 0.9933 - val_loss: 0.0308 - val_acc: 0.9901\n",
            "Epoch 6/10\n",
            "60000/60000 [==============================] - 7s 115us/step - loss: 0.0178 - acc: 0.9944 - val_loss: 0.0311 - val_acc: 0.9892\n",
            "Epoch 7/10\n",
            "60000/60000 [==============================] - 7s 118us/step - loss: 0.0143 - acc: 0.9955 - val_loss: 0.0275 - val_acc: 0.9903\n",
            "Epoch 8/10\n",
            "60000/60000 [==============================] - 7s 114us/step - loss: 0.0124 - acc: 0.9958 - val_loss: 0.0295 - val_acc: 0.9907\n",
            "Epoch 9/10\n",
            "60000/60000 [==============================] - 7s 113us/step - loss: 0.0110 - acc: 0.9966 - val_loss: 0.0322 - val_acc: 0.9904\n",
            "Epoch 10/10\n",
            "60000/60000 [==============================] - 7s 114us/step - loss: 0.0100 - acc: 0.9967 - val_loss: 0.0336 - val_acc: 0.9902\n",
            "[0.03360208288071317, 0.9902]\n"
          ],
          "name": "stdout"
        }
      ]
    },
    {
      "cell_type": "code",
      "metadata": {
        "id": "pHq_b-aoNtuZ",
        "colab_type": "code",
        "colab": {
          "base_uri": "https://localhost:8080/",
          "height": 1000
        },
        "outputId": "0b7fe336-d1c6-4d2d-86e3-8dadb4392844"
      },
      "source": [
        "# Third CODE\n",
        "\n",
        "# Few points from previous code block are, architecture is fixed, total params are well within in 20k and \n",
        "# val accuracy is promisimg to increase\n",
        "\n",
        "# Main thing observed in previous code is from 4th epoch we are observing the overfitting i.e \n",
        "# train acc is consistenlty greater than val accuracy. hence we will introdue the drop out in this block of code\n",
        " \n",
        "# Dropout will drop some features, thus preventing overfitting i.e making network not to mug-up the details\n",
        "# Dropout will not apply for validation run. Applied only for tariing run\n",
        "# Dropout is per batch. i.e for every batch random dropout is different\n",
        "\n",
        "# STEP 1: \n",
        "# Dropout : 0.25 after the network is found all edges and textures.\n",
        "# Observation -> val_acc : 99.13 at 8th and 99.10 at 10th epochs\n",
        "\n",
        "# STEP 2: \n",
        "# Dropout : 0.1 after each conv layer using 3X3.\n",
        "# Observation -> val_acc : 99.15 at 9th and 99.11 at 10th epoch. Not much difference from previous step\n",
        "\n",
        "# STEP 3: \n",
        "# Increase epochs to 20\n",
        "# Observation -> val_acc : 99.31 (at train acc of 0.9945 hence training it a bit more may reflect in val acc as well)\n",
        "#                ( We are almost near the desired 99.4 acc) at 15th epoch and 99.14 at 20th epoch. \n",
        "#                Looks like again its going to overfit. Not sure about it though\n",
        "\n",
        "from keras.layers import Activation\n",
        "model = Sequential()\n",
        "\n",
        " \n",
        "model.add(Convolution2D(10, 3, 3, activation='relu', input_shape=(28,28,1))) # 26, RF 3\n",
        "model.add(BatchNormalization())\n",
        "model.add(Dropout(0.1))\n",
        "\n",
        "model.add(Convolution2D(16, 3, 3, activation='relu')) # 24, RF 5\n",
        "model.add(BatchNormalization())\n",
        "model.add(Dropout(0.1))\n",
        "model.add(Convolution2D(32, 3, 3, activation='relu')) # 22, RF 7\n",
        "model.add(BatchNormalization())\n",
        "model.add(Dropout(0.1))\n",
        "\n",
        "model.add(MaxPooling2D(pool_size=(2, 2))) # 11, RF 14\n",
        "model.add(Convolution2D(10, 1, 1, activation='relu')) # 11, No Change in RF here\n",
        "model.add(BatchNormalization())\n",
        "\n",
        "model.add(Convolution2D(16, 3, 3, activation='relu')) # 9, RF 16\n",
        "model.add(BatchNormalization())\n",
        "model.add(Dropout(0.1))\n",
        "model.add(Convolution2D(32, 3, 3, activation='relu')) # 7, RF 18\n",
        "model.add(BatchNormalization())\n",
        "model.add(Dropout(0.1))\n",
        "\n",
        "\n",
        "model.add(Convolution2D(10, 1, activation='relu')) #7, No Change in RF here\n",
        "model.add(BatchNormalization())\n",
        "model.add(Convolution2D(10, 7)) #1, RF 28\n",
        "model.add(Flatten())\n",
        "model.add(Activation('softmax'))\n",
        "\n",
        "model.summary()\n",
        "\n",
        "model.compile(loss='categorical_crossentropy',\n",
        "             optimizer='adam',\n",
        "             metrics=['accuracy'])\n",
        "\n",
        "# validation_data argument is used to run the n/w on validation data set after each epoch\n",
        "model.fit(X_train, Y_train, batch_size=128, nb_epoch=20, verbose=1, \n",
        "          validation_data=(X_test, Y_test))  \n",
        "\n",
        "score = model.evaluate(X_test, Y_test, verbose=0)\n",
        "\n",
        "print(score)"
      ],
      "execution_count": 62,
      "outputs": [
        {
          "output_type": "stream",
          "text": [
            "/usr/local/lib/python3.6/dist-packages/ipykernel_launcher.py:6: UserWarning: Update your `Conv2D` call to the Keras 2 API: `Conv2D(10, (3, 3), activation=\"relu\", input_shape=(28, 28, 1...)`\n",
            "  \n",
            "/usr/local/lib/python3.6/dist-packages/ipykernel_launcher.py:10: UserWarning: Update your `Conv2D` call to the Keras 2 API: `Conv2D(16, (3, 3), activation=\"relu\")`\n",
            "  # Remove the CWD from sys.path while we load stuff.\n",
            "/usr/local/lib/python3.6/dist-packages/ipykernel_launcher.py:13: UserWarning: Update your `Conv2D` call to the Keras 2 API: `Conv2D(32, (3, 3), activation=\"relu\")`\n",
            "  del sys.path[0]\n",
            "/usr/local/lib/python3.6/dist-packages/ipykernel_launcher.py:18: UserWarning: Update your `Conv2D` call to the Keras 2 API: `Conv2D(10, (1, 1), activation=\"relu\")`\n",
            "/usr/local/lib/python3.6/dist-packages/ipykernel_launcher.py:21: UserWarning: Update your `Conv2D` call to the Keras 2 API: `Conv2D(16, (3, 3), activation=\"relu\")`\n",
            "/usr/local/lib/python3.6/dist-packages/ipykernel_launcher.py:24: UserWarning: Update your `Conv2D` call to the Keras 2 API: `Conv2D(32, (3, 3), activation=\"relu\")`\n"
          ],
          "name": "stderr"
        },
        {
          "output_type": "stream",
          "text": [
            "_________________________________________________________________\n",
            "Layer (type)                 Output Shape              Param #   \n",
            "=================================================================\n",
            "conv2d_78 (Conv2D)           (None, 26, 26, 10)        100       \n",
            "_________________________________________________________________\n",
            "batch_normalization_36 (Batc (None, 26, 26, 10)        40        \n",
            "_________________________________________________________________\n",
            "dropout_8 (Dropout)          (None, 26, 26, 10)        0         \n",
            "_________________________________________________________________\n",
            "conv2d_79 (Conv2D)           (None, 24, 24, 16)        1456      \n",
            "_________________________________________________________________\n",
            "batch_normalization_37 (Batc (None, 24, 24, 16)        64        \n",
            "_________________________________________________________________\n",
            "dropout_9 (Dropout)          (None, 24, 24, 16)        0         \n",
            "_________________________________________________________________\n",
            "conv2d_80 (Conv2D)           (None, 22, 22, 32)        4640      \n",
            "_________________________________________________________________\n",
            "batch_normalization_38 (Batc (None, 22, 22, 32)        128       \n",
            "_________________________________________________________________\n",
            "dropout_10 (Dropout)         (None, 22, 22, 32)        0         \n",
            "_________________________________________________________________\n",
            "max_pooling2d_9 (MaxPooling2 (None, 11, 11, 32)        0         \n",
            "_________________________________________________________________\n",
            "conv2d_81 (Conv2D)           (None, 11, 11, 10)        330       \n",
            "_________________________________________________________________\n",
            "batch_normalization_39 (Batc (None, 11, 11, 10)        40        \n",
            "_________________________________________________________________\n",
            "conv2d_82 (Conv2D)           (None, 9, 9, 16)          1456      \n",
            "_________________________________________________________________\n",
            "batch_normalization_40 (Batc (None, 9, 9, 16)          64        \n",
            "_________________________________________________________________\n",
            "dropout_11 (Dropout)         (None, 9, 9, 16)          0         \n",
            "_________________________________________________________________\n",
            "conv2d_83 (Conv2D)           (None, 7, 7, 32)          4640      \n",
            "_________________________________________________________________\n",
            "batch_normalization_41 (Batc (None, 7, 7, 32)          128       \n",
            "_________________________________________________________________\n",
            "dropout_12 (Dropout)         (None, 7, 7, 32)          0         \n",
            "_________________________________________________________________\n",
            "conv2d_84 (Conv2D)           (None, 7, 7, 10)          330       \n",
            "_________________________________________________________________\n",
            "batch_normalization_42 (Batc (None, 7, 7, 10)          40        \n",
            "_________________________________________________________________\n",
            "conv2d_85 (Conv2D)           (None, 1, 1, 10)          4910      \n",
            "_________________________________________________________________\n",
            "flatten_13 (Flatten)         (None, 10)                0         \n",
            "_________________________________________________________________\n",
            "activation_13 (Activation)   (None, 10)                0         \n",
            "=================================================================\n",
            "Total params: 18,366\n",
            "Trainable params: 18,114\n",
            "Non-trainable params: 252\n",
            "_________________________________________________________________\n"
          ],
          "name": "stdout"
        },
        {
          "output_type": "stream",
          "text": [
            "/usr/local/lib/python3.6/dist-packages/ipykernel_launcher.py:43: UserWarning: The `nb_epoch` argument in `fit` has been renamed `epochs`.\n"
          ],
          "name": "stderr"
        },
        {
          "output_type": "stream",
          "text": [
            "Train on 60000 samples, validate on 10000 samples\n",
            "Epoch 1/20\n",
            "60000/60000 [==============================] - 12s 200us/step - loss: 0.2851 - acc: 0.9115 - val_loss: 0.0901 - val_acc: 0.9699\n",
            "Epoch 2/20\n",
            "60000/60000 [==============================] - 8s 132us/step - loss: 0.0670 - acc: 0.9793 - val_loss: 0.0441 - val_acc: 0.9843\n",
            "Epoch 3/20\n",
            "60000/60000 [==============================] - 8s 132us/step - loss: 0.0486 - acc: 0.9847 - val_loss: 0.0338 - val_acc: 0.9887\n",
            "Epoch 4/20\n",
            "60000/60000 [==============================] - 8s 133us/step - loss: 0.0410 - acc: 0.9871 - val_loss: 0.0260 - val_acc: 0.9907\n",
            "Epoch 5/20\n",
            "60000/60000 [==============================] - 8s 133us/step - loss: 0.0344 - acc: 0.9892 - val_loss: 0.0244 - val_acc: 0.9924\n",
            "Epoch 6/20\n",
            "60000/60000 [==============================] - 8s 137us/step - loss: 0.0318 - acc: 0.9901 - val_loss: 0.0267 - val_acc: 0.9914\n",
            "Epoch 7/20\n",
            "60000/60000 [==============================] - 8s 134us/step - loss: 0.0291 - acc: 0.9907 - val_loss: 0.0243 - val_acc: 0.9920\n",
            "Epoch 8/20\n",
            "60000/60000 [==============================] - 8s 131us/step - loss: 0.0261 - acc: 0.9917 - val_loss: 0.0213 - val_acc: 0.9925\n",
            "Epoch 9/20\n",
            "60000/60000 [==============================] - 8s 130us/step - loss: 0.0267 - acc: 0.9912 - val_loss: 0.0235 - val_acc: 0.9916\n",
            "Epoch 10/20\n",
            "60000/60000 [==============================] - 8s 130us/step - loss: 0.0226 - acc: 0.9924 - val_loss: 0.0259 - val_acc: 0.9923\n",
            "Epoch 11/20\n",
            "60000/60000 [==============================] - 8s 129us/step - loss: 0.0215 - acc: 0.9932 - val_loss: 0.0256 - val_acc: 0.9913\n",
            "Epoch 12/20\n",
            "60000/60000 [==============================] - 8s 128us/step - loss: 0.0206 - acc: 0.9932 - val_loss: 0.0229 - val_acc: 0.9917\n",
            "Epoch 13/20\n",
            "60000/60000 [==============================] - 8s 130us/step - loss: 0.0188 - acc: 0.9939 - val_loss: 0.0221 - val_acc: 0.9929\n",
            "Epoch 14/20\n",
            "60000/60000 [==============================] - 8s 129us/step - loss: 0.0191 - acc: 0.9938 - val_loss: 0.0278 - val_acc: 0.9917\n",
            "Epoch 15/20\n",
            "60000/60000 [==============================] - 8s 129us/step - loss: 0.0171 - acc: 0.9945 - val_loss: 0.0214 - val_acc: 0.9931\n",
            "Epoch 16/20\n",
            "60000/60000 [==============================] - 8s 129us/step - loss: 0.0164 - acc: 0.9946 - val_loss: 0.0280 - val_acc: 0.9913\n",
            "Epoch 17/20\n",
            "60000/60000 [==============================] - 8s 129us/step - loss: 0.0161 - acc: 0.9947 - val_loss: 0.0236 - val_acc: 0.9929\n",
            "Epoch 18/20\n",
            "60000/60000 [==============================] - 8s 129us/step - loss: 0.0148 - acc: 0.9949 - val_loss: 0.0221 - val_acc: 0.9930\n",
            "Epoch 19/20\n",
            "60000/60000 [==============================] - 8s 128us/step - loss: 0.0145 - acc: 0.9951 - val_loss: 0.0291 - val_acc: 0.9911\n",
            "Epoch 20/20\n",
            "60000/60000 [==============================] - 8s 130us/step - loss: 0.0139 - acc: 0.9953 - val_loss: 0.0260 - val_acc: 0.9914\n",
            "[0.02600920242090069, 0.9914]\n"
          ],
          "name": "stdout"
        }
      ]
    },
    {
      "cell_type": "code",
      "metadata": {
        "id": "ynF71e9sUINc",
        "colab_type": "code",
        "colab": {
          "base_uri": "https://localhost:8080/",
          "height": 1000
        },
        "outputId": "84e80461-da36-4530-ef5c-d6a33b12abaf"
      },
      "source": [
        "# Fourth CODE\n",
        "\n",
        "# Till now the learning rate was fixed. In this code block reducing the lr for each epoch\n",
        "\n",
        "# STEP 1: \n",
        "# Start LR at 0.03 and reduce after each epoch\n",
        "# Observation -> Reached the desired val acc of 99.4 at 14th epoch\n",
        "\n",
        "\n",
        "\n",
        "from keras.layers import Activation\n",
        "model = Sequential()\n",
        "\n",
        " \n",
        "model.add(Convolution2D(10, 3, 3, activation='relu', input_shape=(28,28,1))) # 26, RF 3\n",
        "model.add(BatchNormalization())\n",
        "model.add(Dropout(0.1))\n",
        "\n",
        "model.add(Convolution2D(16, 3, 3, activation='relu')) # 24, RF 5\n",
        "model.add(BatchNormalization())\n",
        "model.add(Dropout(0.1))\n",
        "model.add(Convolution2D(32, 3, 3, activation='relu')) # 22, RF 7\n",
        "model.add(BatchNormalization())\n",
        "model.add(Dropout(0.1))\n",
        "\n",
        "model.add(MaxPooling2D(pool_size=(2, 2))) # 11, RF 14\n",
        "model.add(Convolution2D(10, 1, 1, activation='relu')) # 11, No Change in RF here\n",
        "model.add(BatchNormalization())\n",
        "\n",
        "model.add(Convolution2D(16, 3, 3, activation='relu')) # 9, RF 16\n",
        "model.add(BatchNormalization())\n",
        "model.add(Dropout(0.1))\n",
        "model.add(Convolution2D(32, 3, 3, activation='relu')) # 7, RF 18\n",
        "model.add(BatchNormalization())\n",
        "model.add(Dropout(0.1))\n",
        "\n",
        "\n",
        "model.add(Convolution2D(10, 1, activation='relu')) #7, No Change in RF here\n",
        "model.add(BatchNormalization())\n",
        "model.add(Convolution2D(10, 7)) #1, RF 28\n",
        "model.add(Flatten())\n",
        "model.add(Activation('softmax'))\n",
        "\n",
        "model.summary()\n",
        "\n",
        "from keras.optimizers import Adam\n",
        "from keras.callbacks import LearningRateScheduler\n",
        "def scheduler(epoch, lr):\n",
        "  return round(0.003 * 1/(1 + 0.319 * epoch), 10)\n",
        "\n",
        "model.compile(loss='categorical_crossentropy', optimizer=Adam(lr=0.003), metrics=['accuracy'])\n",
        "\n",
        "# validation_data argument is used to run the n/w on validation data set after each epoch\n",
        "model.fit(X_train, Y_train, batch_size=128, nb_epoch=20, verbose=1, \n",
        "          validation_data=(X_test, Y_test), callbacks=[LearningRateScheduler(scheduler, verbose=1)])  \n",
        "\n",
        "score = model.evaluate(X_test, Y_test, verbose=0)\n",
        "\n",
        "print(score)"
      ],
      "execution_count": 64,
      "outputs": [
        {
          "output_type": "stream",
          "text": [
            "/usr/local/lib/python3.6/dist-packages/ipykernel_launcher.py:8: UserWarning: Update your `Conv2D` call to the Keras 2 API: `Conv2D(10, (3, 3), activation=\"relu\", input_shape=(28, 28, 1...)`\n",
            "  \n",
            "/usr/local/lib/python3.6/dist-packages/ipykernel_launcher.py:12: UserWarning: Update your `Conv2D` call to the Keras 2 API: `Conv2D(16, (3, 3), activation=\"relu\")`\n",
            "  if sys.path[0] == '':\n",
            "/usr/local/lib/python3.6/dist-packages/ipykernel_launcher.py:15: UserWarning: Update your `Conv2D` call to the Keras 2 API: `Conv2D(32, (3, 3), activation=\"relu\")`\n",
            "  from ipykernel import kernelapp as app\n",
            "/usr/local/lib/python3.6/dist-packages/ipykernel_launcher.py:20: UserWarning: Update your `Conv2D` call to the Keras 2 API: `Conv2D(10, (1, 1), activation=\"relu\")`\n",
            "/usr/local/lib/python3.6/dist-packages/ipykernel_launcher.py:23: UserWarning: Update your `Conv2D` call to the Keras 2 API: `Conv2D(16, (3, 3), activation=\"relu\")`\n",
            "/usr/local/lib/python3.6/dist-packages/ipykernel_launcher.py:26: UserWarning: Update your `Conv2D` call to the Keras 2 API: `Conv2D(32, (3, 3), activation=\"relu\")`\n"
          ],
          "name": "stderr"
        },
        {
          "output_type": "stream",
          "text": [
            "_________________________________________________________________\n",
            "Layer (type)                 Output Shape              Param #   \n",
            "=================================================================\n",
            "conv2d_94 (Conv2D)           (None, 26, 26, 10)        100       \n",
            "_________________________________________________________________\n",
            "batch_normalization_50 (Batc (None, 26, 26, 10)        40        \n",
            "_________________________________________________________________\n",
            "dropout_18 (Dropout)         (None, 26, 26, 10)        0         \n",
            "_________________________________________________________________\n",
            "conv2d_95 (Conv2D)           (None, 24, 24, 16)        1456      \n",
            "_________________________________________________________________\n",
            "batch_normalization_51 (Batc (None, 24, 24, 16)        64        \n",
            "_________________________________________________________________\n",
            "dropout_19 (Dropout)         (None, 24, 24, 16)        0         \n",
            "_________________________________________________________________\n",
            "conv2d_96 (Conv2D)           (None, 22, 22, 32)        4640      \n",
            "_________________________________________________________________\n",
            "batch_normalization_52 (Batc (None, 22, 22, 32)        128       \n",
            "_________________________________________________________________\n",
            "dropout_20 (Dropout)         (None, 22, 22, 32)        0         \n",
            "_________________________________________________________________\n",
            "max_pooling2d_11 (MaxPooling (None, 11, 11, 32)        0         \n",
            "_________________________________________________________________\n",
            "conv2d_97 (Conv2D)           (None, 11, 11, 10)        330       \n",
            "_________________________________________________________________\n",
            "batch_normalization_53 (Batc (None, 11, 11, 10)        40        \n",
            "_________________________________________________________________\n",
            "conv2d_98 (Conv2D)           (None, 9, 9, 16)          1456      \n",
            "_________________________________________________________________\n",
            "batch_normalization_54 (Batc (None, 9, 9, 16)          64        \n",
            "_________________________________________________________________\n",
            "dropout_21 (Dropout)         (None, 9, 9, 16)          0         \n",
            "_________________________________________________________________\n",
            "conv2d_99 (Conv2D)           (None, 7, 7, 32)          4640      \n",
            "_________________________________________________________________\n",
            "batch_normalization_55 (Batc (None, 7, 7, 32)          128       \n",
            "_________________________________________________________________\n",
            "dropout_22 (Dropout)         (None, 7, 7, 32)          0         \n",
            "_________________________________________________________________\n",
            "conv2d_100 (Conv2D)          (None, 7, 7, 10)          330       \n",
            "_________________________________________________________________\n",
            "batch_normalization_56 (Batc (None, 7, 7, 10)          40        \n",
            "_________________________________________________________________\n",
            "conv2d_101 (Conv2D)          (None, 1, 1, 10)          4910      \n",
            "_________________________________________________________________\n",
            "flatten_15 (Flatten)         (None, 10)                0         \n",
            "_________________________________________________________________\n",
            "activation_15 (Activation)   (None, 10)                0         \n",
            "=================================================================\n",
            "Total params: 18,366\n",
            "Trainable params: 18,114\n",
            "Non-trainable params: 252\n",
            "_________________________________________________________________\n"
          ],
          "name": "stdout"
        },
        {
          "output_type": "stream",
          "text": [
            "/usr/local/lib/python3.6/dist-packages/ipykernel_launcher.py:48: UserWarning: The `nb_epoch` argument in `fit` has been renamed `epochs`.\n"
          ],
          "name": "stderr"
        },
        {
          "output_type": "stream",
          "text": [
            "Train on 60000 samples, validate on 10000 samples\n",
            "Epoch 1/20\n",
            "\n",
            "Epoch 00001: LearningRateScheduler setting learning rate to 0.003.\n",
            "60000/60000 [==============================] - 15s 243us/step - loss: 0.1533 - acc: 0.9511 - val_loss: 0.0434 - val_acc: 0.9856\n",
            "Epoch 2/20\n",
            "\n",
            "Epoch 00002: LearningRateScheduler setting learning rate to 0.0022744503.\n",
            "60000/60000 [==============================] - 8s 128us/step - loss: 0.0502 - acc: 0.9841 - val_loss: 0.0394 - val_acc: 0.9866\n",
            "Epoch 3/20\n",
            "\n",
            "Epoch 00003: LearningRateScheduler setting learning rate to 0.0018315018.\n",
            "60000/60000 [==============================] - 8s 126us/step - loss: 0.0376 - acc: 0.9883 - val_loss: 0.0358 - val_acc: 0.9883\n",
            "Epoch 4/20\n",
            "\n",
            "Epoch 00004: LearningRateScheduler setting learning rate to 0.0015329586.\n",
            "60000/60000 [==============================] - 8s 128us/step - loss: 0.0323 - acc: 0.9900 - val_loss: 0.0248 - val_acc: 0.9916\n",
            "Epoch 5/20\n",
            "\n",
            "Epoch 00005: LearningRateScheduler setting learning rate to 0.0013181019.\n",
            "60000/60000 [==============================] - 8s 127us/step - loss: 0.0284 - acc: 0.9910 - val_loss: 0.0264 - val_acc: 0.9923\n",
            "Epoch 6/20\n",
            "\n",
            "Epoch 00006: LearningRateScheduler setting learning rate to 0.0011560694.\n",
            "60000/60000 [==============================] - 8s 126us/step - loss: 0.0244 - acc: 0.9924 - val_loss: 0.0273 - val_acc: 0.9909\n",
            "Epoch 7/20\n",
            "\n",
            "Epoch 00007: LearningRateScheduler setting learning rate to 0.0010295127.\n",
            "60000/60000 [==============================] - 8s 127us/step - loss: 0.0222 - acc: 0.9930 - val_loss: 0.0232 - val_acc: 0.9923\n",
            "Epoch 8/20\n",
            "\n",
            "Epoch 00008: LearningRateScheduler setting learning rate to 0.0009279307.\n",
            "60000/60000 [==============================] - 8s 127us/step - loss: 0.0198 - acc: 0.9937 - val_loss: 0.0260 - val_acc: 0.9921\n",
            "Epoch 9/20\n",
            "\n",
            "Epoch 00009: LearningRateScheduler setting learning rate to 0.0008445946.\n",
            "60000/60000 [==============================] - 8s 127us/step - loss: 0.0186 - acc: 0.9940 - val_loss: 0.0244 - val_acc: 0.9919\n",
            "Epoch 10/20\n",
            "\n",
            "Epoch 00010: LearningRateScheduler setting learning rate to 0.0007749935.\n",
            "60000/60000 [==============================] - 8s 128us/step - loss: 0.0157 - acc: 0.9948 - val_loss: 0.0233 - val_acc: 0.9917\n",
            "Epoch 11/20\n",
            "\n",
            "Epoch 00011: LearningRateScheduler setting learning rate to 0.0007159905.\n",
            "60000/60000 [==============================] - 8s 127us/step - loss: 0.0150 - acc: 0.9950 - val_loss: 0.0233 - val_acc: 0.9920\n",
            "Epoch 12/20\n",
            "\n",
            "Epoch 00012: LearningRateScheduler setting learning rate to 0.000665336.\n",
            "60000/60000 [==============================] - 8s 127us/step - loss: 0.0136 - acc: 0.9955 - val_loss: 0.0225 - val_acc: 0.9930\n",
            "Epoch 13/20\n",
            "\n",
            "Epoch 00013: LearningRateScheduler setting learning rate to 0.0006213753.\n",
            "60000/60000 [==============================] - 8s 127us/step - loss: 0.0140 - acc: 0.9952 - val_loss: 0.0220 - val_acc: 0.9940\n",
            "Epoch 14/20\n",
            "\n",
            "Epoch 00014: LearningRateScheduler setting learning rate to 0.0005828638.\n",
            "60000/60000 [==============================] - 8s 127us/step - loss: 0.0117 - acc: 0.9962 - val_loss: 0.0223 - val_acc: 0.9941\n",
            "Epoch 15/20\n",
            "\n",
            "Epoch 00015: LearningRateScheduler setting learning rate to 0.0005488474.\n",
            "60000/60000 [==============================] - 8s 130us/step - loss: 0.0110 - acc: 0.9963 - val_loss: 0.0203 - val_acc: 0.9937\n",
            "Epoch 16/20\n",
            "\n",
            "Epoch 00016: LearningRateScheduler setting learning rate to 0.0005185825.\n",
            "60000/60000 [==============================] - 8s 127us/step - loss: 0.0107 - acc: 0.9966 - val_loss: 0.0251 - val_acc: 0.9927\n",
            "Epoch 17/20\n",
            "\n",
            "Epoch 00017: LearningRateScheduler setting learning rate to 0.000491481.\n",
            "60000/60000 [==============================] - 8s 126us/step - loss: 0.0100 - acc: 0.9966 - val_loss: 0.0225 - val_acc: 0.9937\n",
            "Epoch 18/20\n",
            "\n",
            "Epoch 00018: LearningRateScheduler setting learning rate to 0.0004670715.\n",
            "60000/60000 [==============================] - 8s 127us/step - loss: 0.0102 - acc: 0.9966 - val_loss: 0.0230 - val_acc: 0.9934\n",
            "Epoch 19/20\n",
            "\n",
            "Epoch 00019: LearningRateScheduler setting learning rate to 0.0004449718.\n",
            "60000/60000 [==============================] - 8s 127us/step - loss: 0.0094 - acc: 0.9967 - val_loss: 0.0237 - val_acc: 0.9931\n",
            "Epoch 20/20\n",
            "\n",
            "Epoch 00020: LearningRateScheduler setting learning rate to 0.000424869.\n",
            "60000/60000 [==============================] - 8s 128us/step - loss: 0.0089 - acc: 0.9970 - val_loss: 0.0209 - val_acc: 0.9942\n",
            "[0.020913089557510468, 0.9942]\n"
          ],
          "name": "stdout"
        }
      ]
    },
    {
      "cell_type": "code",
      "metadata": {
        "id": "7i7JbLRoT2Vj",
        "colab_type": "code",
        "colab": {}
      },
      "source": [
        ""
      ],
      "execution_count": 0,
      "outputs": []
    },
    {
      "cell_type": "code",
      "metadata": {
        "id": "OCWoJkwE9suh",
        "colab_type": "code",
        "colab": {}
      },
      "source": [
        "y_pred = model.predict(X_test)"
      ],
      "execution_count": 0,
      "outputs": []
    },
    {
      "cell_type": "code",
      "metadata": {
        "id": "Ym7iCFBm9uBs",
        "colab_type": "code",
        "outputId": "6b854e96-45b0-4adf-cb60-b9ebf2cb6b7f",
        "colab": {
          "base_uri": "https://localhost:8080/",
          "height": 336
        }
      },
      "source": [
        "print(y_pred[:9])\n",
        "print(y_test[:9])"
      ],
      "execution_count": 17,
      "outputs": [
        {
          "output_type": "stream",
          "text": [
            "[[5.4745844e-20 1.1936952e-18 4.2862171e-14 1.6672766e-07 1.3009473e-21\n",
            "  3.1398372e-18 6.2998445e-33 9.9999988e-01 5.5436689e-10 2.5990571e-11]\n",
            " [1.2715969e-13 1.9593703e-14 1.0000000e+00 1.2292611e-15 9.1097164e-25\n",
            "  2.7713714e-19 4.4067847e-10 5.8717919e-24 3.9734349e-15 8.9926798e-23]\n",
            " [2.3215026e-10 9.9998415e-01 5.6223435e-08 1.8260439e-10 5.4041766e-06\n",
            "  6.3530087e-10 4.0493864e-10 3.3467902e-07 1.0188879e-05 1.3110549e-10]\n",
            " [1.0000000e+00 1.3568867e-19 6.1946098e-10 3.1651038e-18 1.3641689e-18\n",
            "  1.4489866e-16 1.4763991e-12 3.6941745e-11 2.5052068e-11 2.1502346e-12]\n",
            " [8.0488012e-12 2.9077440e-18 2.3007634e-14 4.0231205e-14 1.0000000e+00\n",
            "  3.1624124e-18 1.9474217e-14 2.3602691e-12 4.5549609e-10 7.8210523e-09]\n",
            " [1.9419195e-12 9.9992573e-01 2.7420657e-10 3.9928985e-12 2.9053572e-07\n",
            "  1.1710764e-14 7.7125528e-14 2.9030503e-05 4.4911598e-05 2.1315798e-10]\n",
            " [6.9364885e-22 8.2730885e-15 3.5243225e-12 8.4673716e-15 9.9995542e-01\n",
            "  5.7854302e-13 9.0233506e-21 8.4725960e-10 4.4563072e-05 2.4096172e-08]\n",
            " [6.8931276e-26 1.1436201e-12 3.6848234e-14 1.3896787e-12 2.4763452e-08\n",
            "  1.0871921e-09 1.2531778e-20 3.1994643e-14 1.4930214e-09 1.0000000e+00]\n",
            " [5.3534478e-08 3.4810381e-19 1.8530258e-16 1.4683315e-13 7.8346466e-13\n",
            "  1.4804879e-01 8.5193837e-01 1.8260680e-21 1.2669491e-05 1.2445370e-09]]\n",
            "[7 2 1 0 4 1 4 9 5]\n"
          ],
          "name": "stdout"
        }
      ]
    },
    {
      "cell_type": "code",
      "metadata": {
        "id": "CT--y98_dr2T",
        "colab_type": "code",
        "colab": {}
      },
      "source": [
        "layer_dict = dict([(layer.name, layer) for layer in model.layers])"
      ],
      "execution_count": 0,
      "outputs": []
    },
    {
      "cell_type": "code",
      "metadata": {
        "id": "2GY4Upv4dsUR",
        "colab_type": "code",
        "outputId": "cfc9a57d-614b-42cc-822d-fac63cac6439",
        "colab": {
          "base_uri": "https://localhost:8080/",
          "height": 314
        }
      },
      "source": [
        "import numpy as np\n",
        "from matplotlib import pyplot as plt\n",
        "from keras import backend as K\n",
        "%matplotlib inline\n",
        "# util function to convert a tensor into a valid image\n",
        "def deprocess_image(x):\n",
        "    # normalize tensor: center on 0., ensure std is 0.1\n",
        "    x -= x.mean()\n",
        "    x /= (x.std() + 1e-5)\n",
        "    x *= 0.1\n",
        "\n",
        "    # clip to [0, 1]\n",
        "    x += 0.5\n",
        "    x = np.clip(x, 0, 1)\n",
        "\n",
        "    # convert to RGB array\n",
        "    x *= 255\n",
        "    #x = x.transpose((1, 2, 0))\n",
        "    x = np.clip(x, 0, 255).astype('uint8')\n",
        "    return x\n",
        "\n",
        "def vis_img_in_filter(img = np.array(X_train[2]).reshape((1, 28, 28, 1)).astype(np.float64), \n",
        "                      layer_name = 'conv2d_14'):\n",
        "    layer_output = layer_dict[layer_name].output\n",
        "    img_ascs = list()\n",
        "    for filter_index in range(layer_output.shape[3]):\n",
        "        # build a loss function that maximizes the activation\n",
        "        # of the nth filter of the layer considered\n",
        "        loss = K.mean(layer_output[:, :, :, filter_index])\n",
        "\n",
        "        # compute the gradient of the input picture wrt this loss\n",
        "        grads = K.gradients(loss, model.input)[0]\n",
        "\n",
        "        # normalization trick: we normalize the gradient\n",
        "        grads /= (K.sqrt(K.mean(K.square(grads))) + 1e-5)\n",
        "\n",
        "        # this function returns the loss and grads given the input picture\n",
        "        iterate = K.function([model.input], [loss, grads])\n",
        "\n",
        "        # step size for gradient ascent\n",
        "        step = 5.\n",
        "\n",
        "        img_asc = np.array(img)\n",
        "        # run gradient ascent for 20 steps\n",
        "        for i in range(20):\n",
        "            loss_value, grads_value = iterate([img_asc])\n",
        "            img_asc += grads_value * step\n",
        "\n",
        "        img_asc = img_asc[0]\n",
        "        img_ascs.append(deprocess_image(img_asc).reshape((28, 28)))\n",
        "        \n",
        "    if layer_output.shape[3] >= 35:\n",
        "        plot_x, plot_y = 6, 6\n",
        "    elif layer_output.shape[3] >= 23:\n",
        "        plot_x, plot_y = 4, 6\n",
        "    elif layer_output.shape[3] >= 11:\n",
        "        plot_x, plot_y = 2, 6\n",
        "    else:\n",
        "        plot_x, plot_y = 1, 2\n",
        "    fig, ax = plt.subplots(plot_x, plot_y, figsize = (12, 12))\n",
        "    ax[0, 0].imshow(img.reshape((28, 28)), cmap = 'gray')\n",
        "    ax[0, 0].set_title('Input image')\n",
        "    fig.suptitle('Input image and %s filters' % (layer_name,))\n",
        "    fig.tight_layout(pad = 0.3, rect = [0, 0, 0.9, 0.9])\n",
        "    for (x, y) in [(i, j) for i in range(plot_x) for j in range(plot_y)]:\n",
        "        if x == 0 and y == 0:\n",
        "            continue\n",
        "        ax[x, y].imshow(img_ascs[x * plot_y + y - 1], cmap = 'gray')\n",
        "        ax[x, y].set_title('filter %d' % (x * plot_y + y - 1))\n",
        "\n",
        "vis_img_in_filter()"
      ],
      "execution_count": 19,
      "outputs": [
        {
          "output_type": "error",
          "ename": "KeyError",
          "evalue": "ignored",
          "traceback": [
            "\u001b[0;31m---------------------------------------------------------------------------\u001b[0m",
            "\u001b[0;31mKeyError\u001b[0m                                  Traceback (most recent call last)",
            "\u001b[0;32m<ipython-input-19-19229f66b51a>\u001b[0m in \u001b[0;36m<module>\u001b[0;34m()\u001b[0m\n\u001b[1;32m     69\u001b[0m         \u001b[0max\u001b[0m\u001b[0;34m[\u001b[0m\u001b[0mx\u001b[0m\u001b[0;34m,\u001b[0m \u001b[0my\u001b[0m\u001b[0;34m]\u001b[0m\u001b[0;34m.\u001b[0m\u001b[0mset_title\u001b[0m\u001b[0;34m(\u001b[0m\u001b[0;34m'filter %d'\u001b[0m \u001b[0;34m%\u001b[0m \u001b[0;34m(\u001b[0m\u001b[0mx\u001b[0m \u001b[0;34m*\u001b[0m \u001b[0mplot_y\u001b[0m \u001b[0;34m+\u001b[0m \u001b[0my\u001b[0m \u001b[0;34m-\u001b[0m \u001b[0;36m1\u001b[0m\u001b[0;34m)\u001b[0m\u001b[0;34m)\u001b[0m\u001b[0;34m\u001b[0m\u001b[0;34m\u001b[0m\u001b[0m\n\u001b[1;32m     70\u001b[0m \u001b[0;34m\u001b[0m\u001b[0m\n\u001b[0;32m---> 71\u001b[0;31m \u001b[0mvis_img_in_filter\u001b[0m\u001b[0;34m(\u001b[0m\u001b[0;34m)\u001b[0m\u001b[0;34m\u001b[0m\u001b[0;34m\u001b[0m\u001b[0m\n\u001b[0m",
            "\u001b[0;32m<ipython-input-19-19229f66b51a>\u001b[0m in \u001b[0;36mvis_img_in_filter\u001b[0;34m(img, layer_name)\u001b[0m\n\u001b[1;32m     22\u001b[0m def vis_img_in_filter(img = np.array(X_train[2]).reshape((1, 28, 28, 1)).astype(np.float64), \n\u001b[1;32m     23\u001b[0m                       layer_name = 'conv2d_14'):\n\u001b[0;32m---> 24\u001b[0;31m     \u001b[0mlayer_output\u001b[0m \u001b[0;34m=\u001b[0m \u001b[0mlayer_dict\u001b[0m\u001b[0;34m[\u001b[0m\u001b[0mlayer_name\u001b[0m\u001b[0;34m]\u001b[0m\u001b[0;34m.\u001b[0m\u001b[0moutput\u001b[0m\u001b[0;34m\u001b[0m\u001b[0;34m\u001b[0m\u001b[0m\n\u001b[0m\u001b[1;32m     25\u001b[0m     \u001b[0mimg_ascs\u001b[0m \u001b[0;34m=\u001b[0m \u001b[0mlist\u001b[0m\u001b[0;34m(\u001b[0m\u001b[0;34m)\u001b[0m\u001b[0;34m\u001b[0m\u001b[0;34m\u001b[0m\u001b[0m\n\u001b[1;32m     26\u001b[0m     \u001b[0;32mfor\u001b[0m \u001b[0mfilter_index\u001b[0m \u001b[0;32min\u001b[0m \u001b[0mrange\u001b[0m\u001b[0;34m(\u001b[0m\u001b[0mlayer_output\u001b[0m\u001b[0;34m.\u001b[0m\u001b[0mshape\u001b[0m\u001b[0;34m[\u001b[0m\u001b[0;36m3\u001b[0m\u001b[0;34m]\u001b[0m\u001b[0;34m)\u001b[0m\u001b[0;34m:\u001b[0m\u001b[0;34m\u001b[0m\u001b[0;34m\u001b[0m\u001b[0m\n",
            "\u001b[0;31mKeyError\u001b[0m: 'conv2d_14'"
          ]
        }
      ]
    },
    {
      "cell_type": "code",
      "metadata": {
        "id": "9tvptcn8dxvp",
        "colab_type": "code",
        "colab": {}
      },
      "source": [
        ""
      ],
      "execution_count": 0,
      "outputs": []
    }
  ]
}